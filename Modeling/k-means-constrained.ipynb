{
 "cells": [
  {
   "cell_type": "code",
   "execution_count": 1,
   "id": "b6396cde",
   "metadata": {},
   "outputs": [
    {
     "name": "stdout",
     "output_type": "stream",
     "text": [
      "Defaulting to user installation because normal site-packages is not writeable\n",
      "Collecting k-means-constrained\n",
      "  Downloading k_means_constrained-0.7.2-cp39-cp39-win_amd64.whl (335 kB)\n",
      "Collecting scipy>=1.6.3\n",
      "  Downloading scipy-1.10.0-cp39-cp39-win_amd64.whl (42.5 MB)\n",
      "Collecting numpy>=1.23.0\n",
      "  Downloading numpy-1.24.1-cp39-cp39-win_amd64.whl (14.9 MB)\n",
      "Requirement already satisfied: joblib in c:\\users\\anranzheng\\appdata\\roaming\\python\\python39\\site-packages (from k-means-constrained) (1.2.0)\n",
      "Collecting ortools>=9.4.1874\n",
      "  Downloading ortools-9.5.2237-cp39-cp39-win_amd64.whl (42.2 MB)\n",
      "Requirement already satisfied: six in c:\\program files\\arcgis\\pro\\bin\\python\\envs\\arcgispro-py3\\lib\\site-packages (from k-means-constrained) (1.16.0)\n",
      "Collecting absl-py>=0.13\n",
      "  Downloading absl_py-1.4.0-py3-none-any.whl (126 kB)\n",
      "Collecting protobuf>=4.21.5\n",
      "  Downloading protobuf-4.21.12-cp39-cp39-win_amd64.whl (527 kB)\n",
      "Installing collected packages: protobuf, numpy, absl-py, scipy, ortools, k-means-constrained\n",
      "  Attempting uninstall: numpy\n",
      "    Found existing installation: numpy 1.22.4\n",
      "    Uninstalling numpy-1.22.4:\n",
      "      Successfully uninstalled numpy-1.22.4\n"
     ]
    },
    {
     "name": "stderr",
     "output_type": "stream",
     "text": [
      "  WARNING: The script f2py.exe is installed in 'C:\\Users\\anranzheng\\AppData\\Roaming\\Python\\Python39\\Scripts' which is not on PATH.\n",
      "  Consider adding this directory to PATH or, if you prefer to suppress this warning, use --no-warn-script-location.\n",
      "ERROR: Could not install packages due to an OSError: [WinError 5] Access is denied: 'C:\\\\Users\\\\anranzheng\\\\AppData\\\\Roaming\\\\Python\\\\Python39\\\\site-packages\\\\~-mpy\\\\.libs\\\\libopenblas.EL2C6PLE4ZYW3ECEVIV3OXXGRN2NRFM2.gfortran-win_amd64.dll'\n",
      "Check the permissions.\n",
      "\n"
     ]
    }
   ],
   "source": [
    "!pip install k-means-constrained"
   ]
  },
  {
   "cell_type": "code",
   "execution_count": 3,
   "id": "e8ab3e92",
   "metadata": {},
   "outputs": [
    {
     "name": "stderr",
     "output_type": "stream",
     "text": [
      "C:\\Program Files\\ArcGIS\\Pro\\bin\\Python\\envs\\arcgispro-py3\\lib\\site-packages\\scipy\\__init__.py:138: UserWarning: A NumPy version >=1.16.5 and <1.23.0 is required for this version of SciPy (detected version 1.24.1)\n",
      "  warnings.warn(f\"A NumPy version >={np_minversion} and <{np_maxversion} is required for this version of \"\n"
     ]
    }
   ],
   "source": [
    "from scipy.optimize import minimize\n",
    "from scipy.spatial.distance import cdist\n",
    "import numpy as np"
   ]
  },
  {
   "cell_type": "code",
   "execution_count": 4,
   "id": "2fca380d",
   "metadata": {},
   "outputs": [],
   "source": [
    "#input KMeans centroid as input X\n",
    "X = np.array([[29.62658069, -82.37784434], [29.64672621, -82.33768392], [29.66000355, -82.42114815], [29.66034776, -82.27824728]])"
   ]
  },
  {
   "cell_type": "code",
   "execution_count": null,
   "id": "c7cc9be6",
   "metadata": {},
   "outputs": [],
   "source": [
    "clf = KMeansConstrained(\n",
    "...     n_clusters=2,\n",
    "...     size_min=2,\n",
    "...     size_max=5,\n",
    "...     random_state=0\n",
    "... )"
   ]
  },
  {
   "cell_type": "code",
   "execution_count": null,
   "id": "70920d2a",
   "metadata": {},
   "outputs": [],
   "source": [
    "\n",
    "def compute_geometric_median(X: np.array,tol: float = 1e-5) -> np.array:\n",
    "    \n",
    "    \"\"\"\n",
    "    Compute the geometric median of a X dataset ie: The location (x, y) of the point\n",
    "    that minimize the sum of distances to the sample points (f).\n",
    "    Fast and accurate minimization problem thanks to f convexity\n",
    "    Parameters\n",
    "    ----------\n",
    "    X: 2D array of points localisation (x, y), size : n x 2\n",
    "    tol: float, minimum tolerance precision improvement before stopping the algorithm\n",
    "    Returns\n",
    "    -------\n",
    "    array, geometric median of the X dataset\n",
    "    \"\"\"\n",
    "    \n",
    "    def f_x(x: np.array) -> np.array:\n",
    "        return cdist([x], X).sum()\n",
    "    \n",
    "    return minimize(f_x, x0=X.mean(axis=0), method=\"COBYLA\", tol=tol).x"
   ]
  }
 ],
 "metadata": {
  "kernelspec": {
   "display_name": "Python 3",
   "language": "python",
   "name": "python3"
  },
  "language_info": {
   "codemirror_mode": {
    "name": "ipython",
    "version": 3
   },
   "file_extension": ".py",
   "mimetype": "text/x-python",
   "name": "python",
   "nbconvert_exporter": "python",
   "pygments_lexer": "ipython3",
   "version": "3.9.11"
  }
 },
 "nbformat": 4,
 "nbformat_minor": 5
}
